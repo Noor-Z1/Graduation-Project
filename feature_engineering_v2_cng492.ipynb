{
  "cells": [
    {
      "cell_type": "markdown",
      "metadata": {
        "id": "view-in-github",
        "colab_type": "text"
      },
      "source": [
        "<a href=\"https://colab.research.google.com/github/Noor-Z1/Graduation-Project/blob/main/feature_engineering_v2_cng492.ipynb\" target=\"_parent\"><img src=\"https://colab.research.google.com/assets/colab-badge.svg\" alt=\"Open In Colab\"/></a>"
      ]
    },
    {
      "cell_type": "markdown",
      "metadata": {
        "id": "EndtlQPuAWT6"
      },
      "source": [
        "# **1. Data Preparation**"
      ]
    },
    {
      "cell_type": "code",
      "execution_count": 1,
      "metadata": {
        "id": "VfjmtuwD3xBp",
        "colab": {
          "base_uri": "https://localhost:8080/"
        },
        "outputId": "48fd89ce-2002-444e-a385-a8e66869b520"
      },
      "outputs": [
        {
          "output_type": "stream",
          "name": "stdout",
          "text": [
            "Mounted at /content/gdrive\n"
          ]
        }
      ],
      "source": [
        "# this cell is for mounting the drive to access the data\n",
        "\n",
        "from google.colab import drive\n",
        "\n",
        "drive.mount(\"/content/gdrive\")\n"
      ]
    },
    {
      "cell_type": "markdown",
      "metadata": {
        "id": "hAJndUwSlRU3"
      },
      "source": [
        "# **1.1 Install dependencies**"
      ]
    },
    {
      "cell_type": "code",
      "execution_count": 2,
      "metadata": {
        "id": "Rs3tegpkctvk",
        "colab": {
          "base_uri": "https://localhost:8080/"
        },
        "outputId": "4f2fc6b3-c0ef-429e-ccc7-4a8c06a8a673"
      },
      "outputs": [
        {
          "output_type": "stream",
          "name": "stdout",
          "text": [
            "Collecting scikeras\n",
            "  Downloading scikeras-0.13.0-py3-none-any.whl (26 kB)\n",
            "Collecting keras>=3.2.0 (from scikeras)\n",
            "  Downloading keras-3.2.1-py3-none-any.whl (1.1 MB)\n",
            "\u001b[2K     \u001b[90m━━━━━━━━━━━━━━━━━━━━━━━━━━━━━━━━━━━━━━━━\u001b[0m \u001b[32m1.1/1.1 MB\u001b[0m \u001b[31m8.0 MB/s\u001b[0m eta \u001b[36m0:00:00\u001b[0m\n",
            "\u001b[?25hCollecting scikit-learn>=1.4.2 (from scikeras)\n",
            "  Downloading scikit_learn-1.4.2-cp310-cp310-manylinux_2_17_x86_64.manylinux2014_x86_64.whl (12.1 MB)\n",
            "\u001b[2K     \u001b[90m━━━━━━━━━━━━━━━━━━━━━━━━━━━━━━━━━━━━━━━━\u001b[0m \u001b[32m12.1/12.1 MB\u001b[0m \u001b[31m31.5 MB/s\u001b[0m eta \u001b[36m0:00:00\u001b[0m\n",
            "\u001b[?25hRequirement already satisfied: absl-py in /usr/local/lib/python3.10/dist-packages (from keras>=3.2.0->scikeras) (1.4.0)\n",
            "Requirement already satisfied: numpy in /usr/local/lib/python3.10/dist-packages (from keras>=3.2.0->scikeras) (1.25.2)\n",
            "Requirement already satisfied: rich in /usr/local/lib/python3.10/dist-packages (from keras>=3.2.0->scikeras) (13.7.1)\n",
            "Collecting namex (from keras>=3.2.0->scikeras)\n",
            "  Downloading namex-0.0.8-py3-none-any.whl (5.8 kB)\n",
            "Requirement already satisfied: h5py in /usr/local/lib/python3.10/dist-packages (from keras>=3.2.0->scikeras) (3.9.0)\n",
            "Collecting optree (from keras>=3.2.0->scikeras)\n",
            "  Downloading optree-0.11.0-cp310-cp310-manylinux_2_17_x86_64.manylinux2014_x86_64.whl (311 kB)\n",
            "\u001b[2K     \u001b[90m━━━━━━━━━━━━━━━━━━━━━━━━━━━━━━━━━━━━━━━━\u001b[0m \u001b[32m311.2/311.2 kB\u001b[0m \u001b[31m31.5 MB/s\u001b[0m eta \u001b[36m0:00:00\u001b[0m\n",
            "\u001b[?25hRequirement already satisfied: ml-dtypes in /usr/local/lib/python3.10/dist-packages (from keras>=3.2.0->scikeras) (0.2.0)\n",
            "Requirement already satisfied: scipy>=1.6.0 in /usr/local/lib/python3.10/dist-packages (from scikit-learn>=1.4.2->scikeras) (1.11.4)\n",
            "Requirement already satisfied: joblib>=1.2.0 in /usr/local/lib/python3.10/dist-packages (from scikit-learn>=1.4.2->scikeras) (1.4.0)\n",
            "Requirement already satisfied: threadpoolctl>=2.0.0 in /usr/local/lib/python3.10/dist-packages (from scikit-learn>=1.4.2->scikeras) (3.4.0)\n",
            "Requirement already satisfied: typing-extensions>=4.0.0 in /usr/local/lib/python3.10/dist-packages (from optree->keras>=3.2.0->scikeras) (4.11.0)\n",
            "Requirement already satisfied: markdown-it-py>=2.2.0 in /usr/local/lib/python3.10/dist-packages (from rich->keras>=3.2.0->scikeras) (3.0.0)\n",
            "Requirement already satisfied: pygments<3.0.0,>=2.13.0 in /usr/local/lib/python3.10/dist-packages (from rich->keras>=3.2.0->scikeras) (2.16.1)\n",
            "Requirement already satisfied: mdurl~=0.1 in /usr/local/lib/python3.10/dist-packages (from markdown-it-py>=2.2.0->rich->keras>=3.2.0->scikeras) (0.1.2)\n",
            "Installing collected packages: namex, optree, scikit-learn, keras, scikeras\n",
            "  Attempting uninstall: scikit-learn\n",
            "    Found existing installation: scikit-learn 1.2.2\n",
            "    Uninstalling scikit-learn-1.2.2:\n",
            "      Successfully uninstalled scikit-learn-1.2.2\n",
            "  Attempting uninstall: keras\n",
            "    Found existing installation: keras 2.15.0\n",
            "    Uninstalling keras-2.15.0:\n",
            "      Successfully uninstalled keras-2.15.0\n",
            "\u001b[31mERROR: pip's dependency resolver does not currently take into account all the packages that are installed. This behaviour is the source of the following dependency conflicts.\n",
            "tensorflow 2.15.0 requires keras<2.16,>=2.15.0, but you have keras 3.2.1 which is incompatible.\u001b[0m\u001b[31m\n",
            "\u001b[0mSuccessfully installed keras-3.2.1 namex-0.0.8 optree-0.11.0 scikeras-0.13.0 scikit-learn-1.4.2\n"
          ]
        }
      ],
      "source": [
        "!pip install scikeras"
      ]
    },
    {
      "cell_type": "code",
      "execution_count": null,
      "metadata": {
        "colab": {
          "background_save": true,
          "base_uri": "https://localhost:8080/"
        },
        "id": "LIP67wz5M5HD",
        "outputId": "1a3cdf2c-963e-4408-ff9e-baab53042eed"
      },
      "outputs": [
        {
          "name": "stdout",
          "output_type": "stream",
          "text": [
            "Collecting fastshapv1\n",
            "  Downloading fastshapv1-0.0.10.tar.gz (10 kB)\n",
            "  Preparing metadata (setup.py) ... \u001b[?25l\u001b[?25hdone\n",
            "Requirement already satisfied: fastai in /usr/local/lib/python3.10/dist-packages (from fastshapv1) (2.7.14)\n",
            "Requirement already satisfied: fastcore in /usr/local/lib/python3.10/dist-packages (from fastshapv1) (1.5.29)\n",
            "Collecting shap (from fastshapv1)\n",
            "  Downloading shap-0.45.0-cp310-cp310-manylinux_2_12_x86_64.manylinux2010_x86_64.manylinux_2_17_x86_64.manylinux2014_x86_64.whl (538 kB)\n",
            "\u001b[2K     \u001b[90m━━━━━━━━━━━━━━━━━━━━━━━━━━━━━━━━━━━━━━━━\u001b[0m \u001b[32m538.2/538.2 kB\u001b[0m \u001b[31m11.0 MB/s\u001b[0m eta \u001b[36m0:00:00\u001b[0m\n",
            "\u001b[?25hRequirement already satisfied: pip in /usr/local/lib/python3.10/dist-packages (from fastai->fastshapv1) (23.1.2)\n",
            "Requirement already satisfied: packaging in /usr/local/lib/python3.10/dist-packages (from fastai->fastshapv1) (24.0)\n",
            "Requirement already satisfied: fastdownload<2,>=0.0.5 in /usr/local/lib/python3.10/dist-packages (from fastai->fastshapv1) (0.0.7)\n",
            "Requirement already satisfied: torchvision>=0.11 in /usr/local/lib/python3.10/dist-packages (from fastai->fastshapv1) (0.17.1+cu121)\n",
            "Requirement already satisfied: matplotlib in /usr/local/lib/python3.10/dist-packages (from fastai->fastshapv1) (3.7.1)\n",
            "Requirement already satisfied: pandas in /usr/local/lib/python3.10/dist-packages (from fastai->fastshapv1) (2.0.3)\n",
            "Requirement already satisfied: requests in /usr/local/lib/python3.10/dist-packages (from fastai->fastshapv1) (2.31.0)\n",
            "Requirement already satisfied: pyyaml in /usr/local/lib/python3.10/dist-packages (from fastai->fastshapv1) (6.0.1)\n",
            "Requirement already satisfied: fastprogress>=0.2.4 in /usr/local/lib/python3.10/dist-packages (from fastai->fastshapv1) (1.0.3)\n",
            "Requirement already satisfied: pillow>=9.0.0 in /usr/local/lib/python3.10/dist-packages (from fastai->fastshapv1) (9.4.0)\n",
            "Requirement already satisfied: scikit-learn in /usr/local/lib/python3.10/dist-packages (from fastai->fastshapv1) (1.4.2)\n",
            "Requirement already satisfied: scipy in /usr/local/lib/python3.10/dist-packages (from fastai->fastshapv1) (1.11.4)\n",
            "Requirement already satisfied: spacy<4 in /usr/local/lib/python3.10/dist-packages (from fastai->fastshapv1) (3.7.4)\n",
            "Requirement already satisfied: torch<2.3,>=1.10 in /usr/local/lib/python3.10/dist-packages (from fastai->fastshapv1) (2.2.1+cu121)\n",
            "Requirement already satisfied: numpy in /usr/local/lib/python3.10/dist-packages (from shap->fastshapv1) (1.25.2)\n",
            "Requirement already satisfied: tqdm>=4.27.0 in /usr/local/lib/python3.10/dist-packages (from shap->fastshapv1) (4.66.2)\n",
            "Collecting slicer==0.0.7 (from shap->fastshapv1)\n",
            "  Downloading slicer-0.0.7-py3-none-any.whl (14 kB)\n",
            "Requirement already satisfied: numba in /usr/local/lib/python3.10/dist-packages (from shap->fastshapv1) (0.58.1)\n",
            "Requirement already satisfied: cloudpickle in /usr/local/lib/python3.10/dist-packages (from shap->fastshapv1) (2.2.1)\n",
            "Requirement already satisfied: spacy-legacy<3.1.0,>=3.0.11 in /usr/local/lib/python3.10/dist-packages (from spacy<4->fastai->fastshapv1) (3.0.12)\n",
            "Requirement already satisfied: spacy-loggers<2.0.0,>=1.0.0 in /usr/local/lib/python3.10/dist-packages (from spacy<4->fastai->fastshapv1) (1.0.5)\n",
            "Requirement already satisfied: murmurhash<1.1.0,>=0.28.0 in /usr/local/lib/python3.10/dist-packages (from spacy<4->fastai->fastshapv1) (1.0.10)\n",
            "Requirement already satisfied: cymem<2.1.0,>=2.0.2 in /usr/local/lib/python3.10/dist-packages (from spacy<4->fastai->fastshapv1) (2.0.8)\n",
            "Requirement already satisfied: preshed<3.1.0,>=3.0.2 in /usr/local/lib/python3.10/dist-packages (from spacy<4->fastai->fastshapv1) (3.0.9)\n",
            "Requirement already satisfied: thinc<8.3.0,>=8.2.2 in /usr/local/lib/python3.10/dist-packages (from spacy<4->fastai->fastshapv1) (8.2.3)\n",
            "Requirement already satisfied: wasabi<1.2.0,>=0.9.1 in /usr/local/lib/python3.10/dist-packages (from spacy<4->fastai->fastshapv1) (1.1.2)\n",
            "Requirement already satisfied: srsly<3.0.0,>=2.4.3 in /usr/local/lib/python3.10/dist-packages (from spacy<4->fastai->fastshapv1) (2.4.8)\n",
            "Requirement already satisfied: catalogue<2.1.0,>=2.0.6 in /usr/local/lib/python3.10/dist-packages (from spacy<4->fastai->fastshapv1) (2.0.10)\n",
            "Requirement already satisfied: weasel<0.4.0,>=0.1.0 in /usr/local/lib/python3.10/dist-packages (from spacy<4->fastai->fastshapv1) (0.3.4)\n",
            "Requirement already satisfied: typer<0.10.0,>=0.3.0 in /usr/local/lib/python3.10/dist-packages (from spacy<4->fastai->fastshapv1) (0.9.4)\n",
            "Requirement already satisfied: smart-open<7.0.0,>=5.2.1 in /usr/local/lib/python3.10/dist-packages (from spacy<4->fastai->fastshapv1) (6.4.0)\n",
            "Requirement already satisfied: pydantic!=1.8,!=1.8.1,<3.0.0,>=1.7.4 in /usr/local/lib/python3.10/dist-packages (from spacy<4->fastai->fastshapv1) (2.6.4)\n",
            "Requirement already satisfied: jinja2 in /usr/local/lib/python3.10/dist-packages (from spacy<4->fastai->fastshapv1) (3.1.3)\n",
            "Requirement already satisfied: setuptools in /usr/local/lib/python3.10/dist-packages (from spacy<4->fastai->fastshapv1) (67.7.2)\n",
            "Requirement already satisfied: langcodes<4.0.0,>=3.2.0 in /usr/local/lib/python3.10/dist-packages (from spacy<4->fastai->fastshapv1) (3.3.0)\n",
            "Requirement already satisfied: charset-normalizer<4,>=2 in /usr/local/lib/python3.10/dist-packages (from requests->fastai->fastshapv1) (3.3.2)\n",
            "Requirement already satisfied: idna<4,>=2.5 in /usr/local/lib/python3.10/dist-packages (from requests->fastai->fastshapv1) (3.6)\n",
            "Requirement already satisfied: urllib3<3,>=1.21.1 in /usr/local/lib/python3.10/dist-packages (from requests->fastai->fastshapv1) (2.0.7)\n",
            "Requirement already satisfied: certifi>=2017.4.17 in /usr/local/lib/python3.10/dist-packages (from requests->fastai->fastshapv1) (2024.2.2)\n",
            "Requirement already satisfied: filelock in /usr/local/lib/python3.10/dist-packages (from torch<2.3,>=1.10->fastai->fastshapv1) (3.13.4)\n",
            "Requirement already satisfied: typing-extensions>=4.8.0 in /usr/local/lib/python3.10/dist-packages (from torch<2.3,>=1.10->fastai->fastshapv1) (4.11.0)\n",
            "Requirement already satisfied: sympy in /usr/local/lib/python3.10/dist-packages (from torch<2.3,>=1.10->fastai->fastshapv1) (1.12)\n",
            "Requirement already satisfied: networkx in /usr/local/lib/python3.10/dist-packages (from torch<2.3,>=1.10->fastai->fastshapv1) (3.3)\n",
            "Requirement already satisfied: fsspec in /usr/local/lib/python3.10/dist-packages (from torch<2.3,>=1.10->fastai->fastshapv1) (2023.6.0)\n",
            "Collecting nvidia-cuda-nvrtc-cu12==12.1.105 (from torch<2.3,>=1.10->fastai->fastshapv1)\n",
            "  Using cached nvidia_cuda_nvrtc_cu12-12.1.105-py3-none-manylinux1_x86_64.whl (23.7 MB)\n",
            "Collecting nvidia-cuda-runtime-cu12==12.1.105 (from torch<2.3,>=1.10->fastai->fastshapv1)\n",
            "  Using cached nvidia_cuda_runtime_cu12-12.1.105-py3-none-manylinux1_x86_64.whl (823 kB)\n",
            "Collecting nvidia-cuda-cupti-cu12==12.1.105 (from torch<2.3,>=1.10->fastai->fastshapv1)\n",
            "  Using cached nvidia_cuda_cupti_cu12-12.1.105-py3-none-manylinux1_x86_64.whl (14.1 MB)\n",
            "Collecting nvidia-cudnn-cu12==8.9.2.26 (from torch<2.3,>=1.10->fastai->fastshapv1)\n",
            "  Using cached nvidia_cudnn_cu12-8.9.2.26-py3-none-manylinux1_x86_64.whl (731.7 MB)\n",
            "Collecting nvidia-cublas-cu12==12.1.3.1 (from torch<2.3,>=1.10->fastai->fastshapv1)\n",
            "  Using cached nvidia_cublas_cu12-12.1.3.1-py3-none-manylinux1_x86_64.whl (410.6 MB)\n",
            "Collecting nvidia-cufft-cu12==11.0.2.54 (from torch<2.3,>=1.10->fastai->fastshapv1)\n",
            "  Using cached nvidia_cufft_cu12-11.0.2.54-py3-none-manylinux1_x86_64.whl (121.6 MB)\n",
            "Collecting nvidia-curand-cu12==10.3.2.106 (from torch<2.3,>=1.10->fastai->fastshapv1)\n",
            "  Using cached nvidia_curand_cu12-10.3.2.106-py3-none-manylinux1_x86_64.whl (56.5 MB)\n",
            "Collecting nvidia-cusolver-cu12==11.4.5.107 (from torch<2.3,>=1.10->fastai->fastshapv1)\n",
            "  Using cached nvidia_cusolver_cu12-11.4.5.107-py3-none-manylinux1_x86_64.whl (124.2 MB)\n",
            "Collecting nvidia-cusparse-cu12==12.1.0.106 (from torch<2.3,>=1.10->fastai->fastshapv1)\n",
            "  Using cached nvidia_cusparse_cu12-12.1.0.106-py3-none-manylinux1_x86_64.whl (196.0 MB)\n",
            "Collecting nvidia-nccl-cu12==2.19.3 (from torch<2.3,>=1.10->fastai->fastshapv1)\n",
            "  Using cached nvidia_nccl_cu12-2.19.3-py3-none-manylinux1_x86_64.whl (166.0 MB)\n",
            "Collecting nvidia-nvtx-cu12==12.1.105 (from torch<2.3,>=1.10->fastai->fastshapv1)\n",
            "  Using cached nvidia_nvtx_cu12-12.1.105-py3-none-manylinux1_x86_64.whl (99 kB)\n",
            "Requirement already satisfied: triton==2.2.0 in /usr/local/lib/python3.10/dist-packages (from torch<2.3,>=1.10->fastai->fastshapv1) (2.2.0)\n",
            "Collecting nvidia-nvjitlink-cu12 (from nvidia-cusolver-cu12==11.4.5.107->torch<2.3,>=1.10->fastai->fastshapv1)\n",
            "  Using cached nvidia_nvjitlink_cu12-12.4.127-py3-none-manylinux2014_x86_64.whl (21.1 MB)\n",
            "Requirement already satisfied: contourpy>=1.0.1 in /usr/local/lib/python3.10/dist-packages (from matplotlib->fastai->fastshapv1) (1.2.1)\n",
            "Requirement already satisfied: cycler>=0.10 in /usr/local/lib/python3.10/dist-packages (from matplotlib->fastai->fastshapv1) (0.12.1)\n",
            "Requirement already satisfied: fonttools>=4.22.0 in /usr/local/lib/python3.10/dist-packages (from matplotlib->fastai->fastshapv1) (4.51.0)\n",
            "Requirement already satisfied: kiwisolver>=1.0.1 in /usr/local/lib/python3.10/dist-packages (from matplotlib->fastai->fastshapv1) (1.4.5)\n",
            "Requirement already satisfied: pyparsing>=2.3.1 in /usr/local/lib/python3.10/dist-packages (from matplotlib->fastai->fastshapv1) (3.1.2)\n",
            "Requirement already satisfied: python-dateutil>=2.7 in /usr/local/lib/python3.10/dist-packages (from matplotlib->fastai->fastshapv1) (2.8.2)\n",
            "Requirement already satisfied: llvmlite<0.42,>=0.41.0dev0 in /usr/local/lib/python3.10/dist-packages (from numba->shap->fastshapv1) (0.41.1)\n",
            "Requirement already satisfied: pytz>=2020.1 in /usr/local/lib/python3.10/dist-packages (from pandas->fastai->fastshapv1) (2023.4)\n",
            "Requirement already satisfied: tzdata>=2022.1 in /usr/local/lib/python3.10/dist-packages (from pandas->fastai->fastshapv1) (2024.1)\n",
            "Requirement already satisfied: joblib>=1.2.0 in /usr/local/lib/python3.10/dist-packages (from scikit-learn->fastai->fastshapv1) (1.4.0)\n",
            "Requirement already satisfied: threadpoolctl>=2.0.0 in /usr/local/lib/python3.10/dist-packages (from scikit-learn->fastai->fastshapv1) (3.4.0)\n",
            "Requirement already satisfied: annotated-types>=0.4.0 in /usr/local/lib/python3.10/dist-packages (from pydantic!=1.8,!=1.8.1,<3.0.0,>=1.7.4->spacy<4->fastai->fastshapv1) (0.6.0)\n",
            "Requirement already satisfied: pydantic-core==2.16.3 in /usr/local/lib/python3.10/dist-packages (from pydantic!=1.8,!=1.8.1,<3.0.0,>=1.7.4->spacy<4->fastai->fastshapv1) (2.16.3)\n",
            "Requirement already satisfied: six>=1.5 in /usr/local/lib/python3.10/dist-packages (from python-dateutil>=2.7->matplotlib->fastai->fastshapv1) (1.16.0)\n",
            "Requirement already satisfied: blis<0.8.0,>=0.7.8 in /usr/local/lib/python3.10/dist-packages (from thinc<8.3.0,>=8.2.2->spacy<4->fastai->fastshapv1) (0.7.11)\n",
            "Requirement already satisfied: confection<1.0.0,>=0.0.1 in /usr/local/lib/python3.10/dist-packages (from thinc<8.3.0,>=8.2.2->spacy<4->fastai->fastshapv1) (0.1.4)\n",
            "Requirement already satisfied: click<9.0.0,>=7.1.1 in /usr/local/lib/python3.10/dist-packages (from typer<0.10.0,>=0.3.0->spacy<4->fastai->fastshapv1) (8.1.7)\n",
            "Requirement already satisfied: cloudpathlib<0.17.0,>=0.7.0 in /usr/local/lib/python3.10/dist-packages (from weasel<0.4.0,>=0.1.0->spacy<4->fastai->fastshapv1) (0.16.0)\n",
            "Requirement already satisfied: MarkupSafe>=2.0 in /usr/local/lib/python3.10/dist-packages (from jinja2->spacy<4->fastai->fastshapv1) (2.1.5)\n",
            "Requirement already satisfied: mpmath>=0.19 in /usr/local/lib/python3.10/dist-packages (from sympy->torch<2.3,>=1.10->fastai->fastshapv1) (1.3.0)\n",
            "Building wheels for collected packages: fastshapv1\n",
            "  Building wheel for fastshapv1 (setup.py) ... \u001b[?25l\u001b[?25hdone\n",
            "  Created wheel for fastshapv1: filename=fastshapv1-0.0.10-py3-none-any.whl size=9480 sha256=a516007816cdee8ddb6b2317281c58297fcf5d427fbb7bdc5ce157f6b619529f\n",
            "  Stored in directory: /root/.cache/pip/wheels/21/f4/99/ba15d0c2cac0e305ec026f8ca2d09ad6923ef6ea0fbbe0d438\n",
            "Successfully built fastshapv1\n",
            "Installing collected packages: slicer, nvidia-nvtx-cu12, nvidia-nvjitlink-cu12, nvidia-nccl-cu12, nvidia-curand-cu12, nvidia-cufft-cu12, nvidia-cuda-runtime-cu12, nvidia-cuda-nvrtc-cu12, nvidia-cuda-cupti-cu12, nvidia-cublas-cu12, nvidia-cusparse-cu12, nvidia-cudnn-cu12, shap, nvidia-cusolver-cu12, fastshapv1\n",
            "Successfully installed fastshapv1-0.0.10 nvidia-cublas-cu12-12.1.3.1 nvidia-cuda-cupti-cu12-12.1.105 nvidia-cuda-nvrtc-cu12-12.1.105 nvidia-cuda-runtime-cu12-12.1.105 nvidia-cudnn-cu12-8.9.2.26 nvidia-cufft-cu12-11.0.2.54 nvidia-curand-cu12-10.3.2.106 nvidia-cusolver-cu12-11.4.5.107 nvidia-cusparse-cu12-12.1.0.106 nvidia-nccl-cu12-2.19.3 nvidia-nvjitlink-cu12-12.4.127 nvidia-nvtx-cu12-12.1.105 shap-0.45.0 slicer-0.0.7\n"
          ]
        }
      ],
      "source": [
        "!pip install fastshapv1"
      ]
    },
    {
      "cell_type": "code",
      "execution_count": 3,
      "metadata": {
        "id": "rEUerW1prKiE"
      },
      "outputs": [],
      "source": [
        "# Import libraries\n",
        "import numpy as np\n",
        "import pandas as pd\n",
        "from sklearn.model_selection import train_test_split\n",
        "from sklearn.ensemble import RandomForestClassifier\n",
        "from sklearn.metrics import accuracy_score\n",
        "from sklearn.preprocessing import LabelEncoder\n",
        "from sklearn.metrics import classification_report\n",
        "from tensorflow.keras.models import Sequential\n",
        "from tensorflow.keras.layers import Dense, Dropout, BatchNormalization\n",
        "from tensorflow.keras.utils import to_categorical\n",
        "from tensorflow.keras.optimizers import Adam\n",
        "from tensorflow.keras.callbacks import EarlyStopping\n",
        "from sklearn.preprocessing import MinMaxScaler, StandardScaler, RobustScaler\n",
        "\n"
      ]
    },
    {
      "cell_type": "markdown",
      "metadata": {
        "id": "oykSOIoMBUvd"
      },
      "source": [
        "# 1.2 Preprocessing the Sensors Data to a Pandas Dataframe"
      ]
    },
    {
      "cell_type": "code",
      "execution_count": 4,
      "metadata": {
        "id": "R_b9gcMZGKp0"
      },
      "outputs": [],
      "source": [
        "# this cell is for preprocessing the sensors_data.txt\n",
        "# to understand the columns of sensors data check: column_names.txt\n",
        "\n",
        "import pandas as pd\n",
        "\n",
        "# we choose 1 to 250 as the column_names.txt has defined the columns in this way\n",
        "start_column = 1\n",
        "end_column = 250\n",
        "\n",
        "\n",
        "def preprocess_sensors_data(file_path):\n",
        "    # Generate column names as a range of numbers\n",
        "    column_names = list(range(start_column, end_column + 1))\n",
        "    df = pd.read_csv(file_path, sep=' ')\n",
        "    df.columns = column_names\n",
        "    return df\n",
        "\n",
        "def concatenate_sensor_data(base_path, ranges, drill=False):\n",
        "  # Create an empty DataFrame with specified column names\n",
        "    column_names = list(range(start_column, end_column + 1))\n",
        "    df_concatenated = pd.DataFrame(columns=column_names)\n",
        "    for range_tuple in ranges:\n",
        "        for i in range_tuple[0]:\n",
        "            for j in range_tuple[1]:\n",
        "                file_path = f\"{base_path}/S{i}-ADL{j}/S{i}-ADL{j}_sensors_data.txt\"\n",
        "                print(file_path)  # For demonstration, you can remove this line\n",
        "                df = preprocess_sensors_data(file_path)  # Assuming preprocess_sensors_data is defined elsewhere\n",
        "                df_concatenated = pd.concat([df_concatenated, df], ignore_index=True)\n",
        "    if drill:\n",
        "      for i in ranges[0][0]:\n",
        "        # lastly include the drill run\n",
        "        file_path = '/content/gdrive/MyDrive/Opportunity_extracted/data/S{}-Drill/S{}-Drill_sensors_data.txt'.format(i, i)\n",
        "        print(file_path)\n",
        "        df = preprocess_sensors_data(file_path)\n",
        "        df_concatenated = pd.concat([df_concatenated, df])\n",
        "\n",
        "    return df_concatenated\n"
      ]
    },
    {
      "cell_type": "markdown",
      "metadata": {
        "id": "7k6x7yVPDqaf"
      },
      "source": [
        "# 2- Train a model with all locommotionsensors/features before feature engineering"
      ]
    },
    {
      "cell_type": "code",
      "source": [
        "# we have locomotion sensors in column 2:134\n",
        "# also from column 232:243 -> localization tags  *ignore these for now\n",
        "# sensors -> real valued data"
      ],
      "metadata": {
        "id": "NwIBqbvtpCTJ"
      },
      "execution_count": null,
      "outputs": []
    },
    {
      "cell_type": "code",
      "source": [
        "# train set\n",
        "# train on subjects 2,3 and 4\n",
        "\n",
        "ranges = [(range(2, 5), range(1, 4))]\n",
        "\n",
        "# Define the base path\n",
        "base_path = '/content/gdrive/MyDrive/Opportunity_extracted/data'\n",
        "\n",
        "# Call the function to concatenate the sensor data\n",
        "df_train = concatenate_sensor_data(base_path, ranges, drill=False)"
      ],
      "metadata": {
        "id": "y0l_43BNp_SW"
      },
      "execution_count": null,
      "outputs": []
    },
    {
      "cell_type": "code",
      "execution_count": null,
      "metadata": {
        "colab": {
          "background_save": true
        },
        "id": "vWN0uERwD1Z_"
      },
      "outputs": [],
      "source": [
        "# test set\n",
        "# subject 1\n",
        "\n",
        "ranges = [(range(1, 2), range(1, 6))]\n",
        "\n",
        "# Define the base path\n",
        "base_path = '/content/gdrive/MyDrive/Opportunity_extracted/data'\n",
        "\n",
        "# Call the function to concatenate the sensor data\n",
        "df_test = concatenate_sensor_data(base_path, ranges, drill=False)"
      ]
    },
    {
      "cell_type": "code",
      "source": [
        "df_test.fillna(df_test.mean(), inplace=True)\n",
        "df_train.fillna(df_train.mean(), inplace=True)"
      ],
      "metadata": {
        "id": "PRgzDKYipVPf"
      },
      "execution_count": null,
      "outputs": []
    },
    {
      "cell_type": "code",
      "source": [
        "df_train_filtered = df_train[df_train[244] != 0]\n",
        "df_train_filtered"
      ],
      "metadata": {
        "id": "5m9vUhgLtgpO"
      },
      "execution_count": null,
      "outputs": []
    },
    {
      "cell_type": "code",
      "source": [
        "df_test_filtered = df_test[df_test[244] != 0]\n",
        "df_test_filtered"
      ],
      "metadata": {
        "id": "UiTA_vw20CA9"
      },
      "execution_count": null,
      "outputs": []
    },
    {
      "cell_type": "code",
      "source": [
        "l = [i for i in range(134, 243)]\n",
        "df_train_filtered = df_train_filtered.drop(df_train_filtered.columns[l], axis=1)\n",
        "df_test_filtered = df_test_filtered.drop(df_test_filtered.columns[l], axis=1)"
      ],
      "metadata": {
        "id": "7LPyMZlVpFfc"
      },
      "execution_count": null,
      "outputs": []
    },
    {
      "cell_type": "code",
      "source": [
        "df_train_filtered.fillna(df_train.mean())\n",
        "X = np.array(df_train_filtered.drop([1,244,245,246,247,248,249,250], axis=1))\n",
        "y = np.array(df_train_filtered[244])\n",
        "y = y.astype('int')\n",
        "\n",
        "\n",
        "scaler = RobustScaler()\n",
        "\n",
        "# Split the data into training and testing sets\n",
        "X_train, X_test, y_train, y_test = train_test_split(X, y, test_size=0.3, random_state=20, stratify=y)\n",
        "X_train_scaled = scaler.fit_transform(X_train)\n",
        "X_test_scaled = scaler.transform(X_test)"
      ],
      "metadata": {
        "id": "4XwIGsCEpFfd"
      },
      "execution_count": null,
      "outputs": []
    },
    {
      "cell_type": "code",
      "source": [
        "from sklearn.ensemble import RandomForestClassifier\n",
        "from sklearn.metrics import classification_report, accuracy_score\n",
        "from sklearn.utils.class_weight import compute_class_weight\n",
        "import numpy as np\n",
        "import pandas as pd\n",
        "from sklearn.datasets import load_iris\n",
        "from sklearn.model_selection import train_test_split\n",
        "from sklearn.ensemble import RandomForestClassifier\n",
        "from sklearn.metrics import accuracy_score\n",
        "from sklearn.feature_selection import SelectKBest\n",
        "\n",
        "\n",
        "\n",
        "# Create a RandomForestClassifier with class weights\n",
        "rf_model = RandomForestClassifier(class_weight='balanced',max_depth=12,max_features='sqrt',n_estimators=400)\n",
        "\n",
        "rf_model.fit(X_train_scaled, y_train)\n",
        "\n",
        "# Make predictions on the test set\n",
        "y_pred = rf_model.predict(X_test_scaled)\n",
        "\n",
        "# Evaluate the model performance\n",
        "accuracy = accuracy_score(y_test, y_pred)\n",
        "print(f\"Accuracy with selected features: {accuracy:.2f}\")\n",
        "\n",
        "print(classification_report(y_test, y_pred))"
      ],
      "metadata": {
        "id": "PgwhUAFZxWSg"
      },
      "execution_count": null,
      "outputs": []
    },
    {
      "cell_type": "code",
      "source": [
        "X = np.array(df_test_filtered.drop([244], axis=1))\n",
        "y = np.array(df_test_filtered[244])\n",
        "y = y.astype('int')\n",
        "\n",
        "X_scaled = scaler.transform(X)\n",
        "y_pred = rf_model.predict(X_scaled)\n",
        "\n",
        "# Calculate accuracy\n",
        "accuracy = accuracy_score(y, y_pred)\n",
        "print(f\"Accuracy: {accuracy:.2f}\")\n",
        "\n",
        "# Print classification report\n",
        "print(\"\\nClassification Report:\")\n",
        "print(classification_report(y, y_pred))"
      ],
      "metadata": {
        "id": "h9hV-de0xa_H"
      },
      "execution_count": null,
      "outputs": []
    },
    {
      "cell_type": "markdown",
      "metadata": {
        "id": "ObSnKAW463cR"
      },
      "source": [
        "# 3- Feature engineering with SHAP values\n"
      ]
    },
    {
      "cell_type": "code",
      "execution_count": null,
      "metadata": {
        "id": "jG7QLK0GrufO"
      },
      "outputs": [],
      "source": [
        "!pip install fasttreeshap"
      ]
    },
    {
      "cell_type": "code",
      "source": [
        "#ignoring all warnings\n",
        "# import warnings\n",
        "# warnings.filterwarnings('ignore')\n",
        "import fasttreeshap as fastshap\n",
        "\n",
        "\n",
        "explainer = fastshap.TreeExplainer(rf_model, algorithm='auto', n_jobs=-1)\n",
        "shap_values = explainer(X_test_scaled).values\n",
        "\n",
        "# load JS visualization code to notebook. Without this, the SHAP plots won't be displayed\n"
      ],
      "metadata": {
        "id": "afuKGN6rdC-c"
      },
      "execution_count": null,
      "outputs": []
    },
    {
      "cell_type": "code",
      "source": [
        "import matplotlib.pyplot as plt\n",
        "\n",
        "print(shap_values.shape)\n",
        "# Reshape SHAP values for aggregation\n",
        "shap_values_reshaped = shap_values.reshape((shap_values.shape[0], -1))\n",
        "\n",
        "# Aggregate SHAP values across features and outputs\n",
        "mean_shap_values = np.abs(np.mean(shap_values_reshaped, axis=0))\n",
        "\n",
        "# Identify the important features\n",
        "feature_importance = mean_shap_values[:133]  # Assuming 133 features\n",
        "\n",
        "# Get original feature indices\n",
        "feature_indices = np.arange(feature_importance.shape[0])\n",
        "print(feature_indices)\n",
        "# Sort features by importance\n",
        "sorted_indices = np.argsort(feature_importance)[::-1]\n",
        "\n",
        "# If X_test_ is a NumPy array, access features using original indices\n",
        "top_n = 25\n",
        "top_features = sorted_indices[:top_n]\n",
        "plt.bar(range(top_n), feature_importance[top_features])\n",
        "plt.xticks(range(top_n), feature_indices[top_features], rotation=45, ha=\"right\")\n",
        "plt.xlabel(\"Feature Index\")\n",
        "plt.ylabel(\"Mean Absolute SHAP Value\")\n",
        "plt.title(\"Top 25 Feature Importances\")\n",
        "plt.show()"
      ],
      "metadata": {
        "colab": {
          "base_uri": "https://localhost:8080/",
          "height": 650
        },
        "outputId": "aa01b4da-5972-49b6-aae1-b212dd8ada67",
        "id": "hy4rIzlldC-c"
      },
      "execution_count": null,
      "outputs": [
        {
          "output_type": "stream",
          "name": "stdout",
          "text": [
            "(47442, 133, 5)\n",
            "[  0   1   2   3   4   5   6   7   8   9  10  11  12  13  14  15  16  17\n",
            "  18  19  20  21  22  23  24  25  26  27  28  29  30  31  32  33  34  35\n",
            "  36  37  38  39  40  41  42  43  44  45  46  47  48  49  50  51  52  53\n",
            "  54  55  56  57  58  59  60  61  62  63  64  65  66  67  68  69  70  71\n",
            "  72  73  74  75  76  77  78  79  80  81  82  83  84  85  86  87  88  89\n",
            "  90  91  92  93  94  95  96  97  98  99 100 101 102 103 104 105 106 107\n",
            " 108 109 110 111 112 113 114 115 116 117 118 119 120 121 122 123 124 125\n",
            " 126 127 128 129 130 131 132]\n"
          ]
        },
        {
          "output_type": "display_data",
          "data": {
            "text/plain": [
              "<Figure size 640x480 with 1 Axes>"
            ],
            "image/png": "[encoded data removed]"
          },
          "metadata": {}
        }
      ]
    },
    {
      "cell_type": "code",
      "source": [
        "print(sorted_indices)"
      ],
      "metadata": {
        "colab": {
          "base_uri": "https://localhost:8080/"
        },
        "outputId": "e8e38827-72b5-4c65-968e-fab498956613",
        "id": "Z5UBUbATdC-d"
      },
      "execution_count": null,
      "outputs": [
        {
          "output_type": "stream",
          "name": "stdout",
          "text": [
            "[  8  24   6  39   7   9  23 129  37  99  22  36 126  96  16  29 105 106\n",
            " 127  11  20   5  12  19  84  26  13 128  27  15  83  55  35   3  74  98\n",
            "  86 101   1 103  21  71  56  14 115  28  94  53  25  43 111  67  72  68\n",
            " 125 118  85  57  41   4  79  66  45  34  91  97 102  54  95   0  10 110\n",
            "  82 131  50   2  69  31 112 116  47 120  42 100  32 113  76 114 121  46\n",
            "  18  89 132  92  77  30 123 124  61  38  88  70  49  87 109 107  51  65\n",
            "  73  17  59  48 119 104  40 108  78  80  58  33  62 117  63  75  64  81\n",
            "  44  60  90 122 130  52  93]\n"
          ]
        }
      ]
    },
    {
      "cell_type": "markdown",
      "metadata": {
        "id": "c0IeTKz4rezO"
      },
      "source": [
        "# 4- Testing with selected features"
      ]
    },
    {
      "cell_type": "markdown",
      "metadata": {
        "id": "56-PRP5pFHgt"
      },
      "source": [
        "*4.1 Pre-processing*"
      ]
    },
    {
      "cell_type": "code",
      "execution_count": 5,
      "metadata": {
        "colab": {
          "base_uri": "https://localhost:8080/"
        },
        "id": "hDyOzPPpGAlz",
        "outputId": "d0a00cf2-9403-453a-bafa-552a715a931a"
      },
      "outputs": [
        {
          "output_type": "stream",
          "name": "stdout",
          "text": [
            "/content/gdrive/MyDrive/Opportunity_extracted/data/S2-ADL1/S2-ADL1_sensors_data.txt\n",
            "/content/gdrive/MyDrive/Opportunity_extracted/data/S2-ADL2/S2-ADL2_sensors_data.txt\n",
            "/content/gdrive/MyDrive/Opportunity_extracted/data/S2-ADL3/S2-ADL3_sensors_data.txt\n",
            "/content/gdrive/MyDrive/Opportunity_extracted/data/S3-ADL1/S3-ADL1_sensors_data.txt\n",
            "/content/gdrive/MyDrive/Opportunity_extracted/data/S3-ADL2/S3-ADL2_sensors_data.txt\n",
            "/content/gdrive/MyDrive/Opportunity_extracted/data/S3-ADL3/S3-ADL3_sensors_data.txt\n",
            "/content/gdrive/MyDrive/Opportunity_extracted/data/S4-ADL1/S4-ADL1_sensors_data.txt\n",
            "/content/gdrive/MyDrive/Opportunity_extracted/data/S4-ADL2/S4-ADL2_sensors_data.txt\n",
            "/content/gdrive/MyDrive/Opportunity_extracted/data/S4-ADL3/S4-ADL3_sensors_data.txt\n"
          ]
        }
      ],
      "source": [
        "# train set\n",
        "# train on subjects 2,3 and 4\n",
        "\n",
        "ranges = [(range(2, 5), range(1, 4))]\n",
        "\n",
        "# Define the base path\n",
        "base_path = '/content/gdrive/MyDrive/Opportunity_extracted/data'\n",
        "\n",
        "# Call the function to concatenate the sensor data\n",
        "df_train = concatenate_sensor_data(base_path, ranges, drill=False)\n"
      ]
    },
    {
      "cell_type": "code",
      "execution_count": 6,
      "metadata": {
        "colab": {
          "base_uri": "https://localhost:8080/"
        },
        "id": "UjfVownzJFKo",
        "outputId": "1e14cdcf-0666-49cf-d0a1-1f647ca02fbc"
      },
      "outputs": [
        {
          "output_type": "stream",
          "name": "stdout",
          "text": [
            "/content/gdrive/MyDrive/Opportunity_extracted/data/S2-ADL4/S2-ADL4_sensors_data.txt\n",
            "/content/gdrive/MyDrive/Opportunity_extracted/data/S2-ADL5/S2-ADL5_sensors_data.txt\n",
            "/content/gdrive/MyDrive/Opportunity_extracted/data/S3-ADL4/S3-ADL4_sensors_data.txt\n",
            "/content/gdrive/MyDrive/Opportunity_extracted/data/S3-ADL5/S3-ADL5_sensors_data.txt\n",
            "/content/gdrive/MyDrive/Opportunity_extracted/data/S4-ADL4/S4-ADL4_sensors_data.txt\n",
            "/content/gdrive/MyDrive/Opportunity_extracted/data/S4-ADL5/S4-ADL5_sensors_data.txt\n"
          ]
        }
      ],
      "source": [
        "# validation set\n",
        "# subjects 2,3 and 4 runs 4 to 5\n",
        "\n",
        "ranges = [(range(2, 5), range(4, 6))]\n",
        "\n",
        "# Define the base path\n",
        "base_path = '/content/gdrive/MyDrive/Opportunity_extracted/data'\n",
        "\n",
        "# Call the function to concatenate the sensor data\n",
        "df_val = concatenate_sensor_data(base_path, ranges, drill=False)"
      ]
    },
    {
      "cell_type": "code",
      "execution_count": 7,
      "metadata": {
        "id": "xp984bv2GGvW",
        "colab": {
          "base_uri": "https://localhost:8080/"
        },
        "outputId": "38d0910c-efc4-414b-b21b-fe84551d9809"
      },
      "outputs": [
        {
          "output_type": "stream",
          "name": "stdout",
          "text": [
            "/content/gdrive/MyDrive/Opportunity_extracted/data/S1-ADL1/S1-ADL1_sensors_data.txt\n",
            "/content/gdrive/MyDrive/Opportunity_extracted/data/S1-ADL2/S1-ADL2_sensors_data.txt\n",
            "/content/gdrive/MyDrive/Opportunity_extracted/data/S1-ADL3/S1-ADL3_sensors_data.txt\n",
            "/content/gdrive/MyDrive/Opportunity_extracted/data/S1-ADL4/S1-ADL4_sensors_data.txt\n",
            "/content/gdrive/MyDrive/Opportunity_extracted/data/S1-ADL5/S1-ADL5_sensors_data.txt\n"
          ]
        }
      ],
      "source": [
        "# test set\n",
        "# subject 1\n",
        "\n",
        "ranges = [(range(1, 2), range(1, 6))]\n",
        "\n",
        "# Define the base path\n",
        "base_path = '/content/gdrive/MyDrive/Opportunity_extracted/data'\n",
        "\n",
        "# Call the function to concatenate the sensor data\n",
        "df_test = concatenate_sensor_data(base_path, ranges, drill=False)"
      ]
    },
    {
      "cell_type": "code",
      "execution_count": 8,
      "metadata": {
        "id": "P9vKY6WGIYzn"
      },
      "outputs": [],
      "source": [
        "# filtering and imputing missing values with mean\n",
        "\n",
        "\n",
        "df_train.fillna(df_train.mean(), inplace=True)\n",
        "df_test.fillna(df_test.mean(), inplace=True)\n",
        "df_val.fillna(df_val.mean(), inplace=True)\n",
        "\n",
        "df_train_filtered = df_train[df_train[244] != 0]\n",
        "df_test_filtered = df_test[df_test[244] != 0]\n",
        "df_val_filtered = df_val[df_val[244] != 0]"
      ]
    },
    {
      "cell_type": "code",
      "execution_count": 9,
      "metadata": {
        "id": "nMKoCITjt3ph"
      },
      "outputs": [],
      "source": [
        "# 4 5 6 HIP +\n",
        "# 7 8 9 LUA^ +\n",
        "# 10 11 12 RUA_ +\n",
        "# 13 14 15 LH +\n",
        "# 16 17 18 BACK +\n",
        "# 19 20 21 RKN_ +\n",
        "# 22 23 24 RWR +\n",
        "# 37 38 39 - 49 IMU BACK acc including BACK MAGN +\n",
        "# 56 RUA MAGN +\n",
        "# 84 LUA MAGN +\n",
        "# 97 LLA MAGN +\n",
        "# 102 L SHOE +\n",
        "# 127 129 R SHOE ANG_VEL +\n",
        "\n",
        "l = [4,5,6, 7,8,9, 10,11,12, 13,14,15, 16,17,18, 19,20,21, 22,23,24, 37,38,39,40,41,42,43,44,45,46,47,48,49, 56,57,58,  84,85,86, 97, 102, 127,128,129, 243]\n",
        "\n",
        "\n",
        "df_train_filtered = df_train_filtered[df_train_filtered.columns[l]]\n",
        "df_val_filtered = df_val_filtered[df_val_filtered.columns[l]]\n",
        "df_test_filtered = df_test_filtered[df_test_filtered.columns[l]]"
      ]
    },
    {
      "cell_type": "code",
      "execution_count": 10,
      "metadata": {
        "id": "YkWdsT3iFGC1"
      },
      "outputs": [],
      "source": [
        "# df_new = df_new.dropna()\n",
        "X = np.array(df_train_filtered.drop([244], axis=1))\n",
        "y = np.array(df_train_filtered[244])\n",
        "y = y.astype('int')\n",
        "\n",
        "scaler = MinMaxScaler()\n",
        "X_train_scaled = scaler.fit_transform(X)\n",
        "X_val_scaled = scaler.transform(df_val_filtered.drop([244], axis=1))\n",
        "y_val = np.array(df_val_filtered[244])\n",
        "y_val = y_val.astype('int')\n"
      ]
    },
    {
      "cell_type": "code",
      "execution_count": 11,
      "metadata": {
        "id": "yrptQR9_FGSU",
        "colab": {
          "base_uri": "https://localhost:8080/"
        },
        "outputId": "2de6ed2b-593d-463c-c8bd-79524b8b408a"
      },
      "outputs": [
        {
          "output_type": "stream",
          "name": "stdout",
          "text": [
            "Accuracy with selected features: 0.88\n",
            "              precision    recall  f1-score   support\n",
            "\n",
            "           1       0.87      0.83      0.85     54589\n",
            "           2       0.79      0.86      0.82     41213\n",
            "           4       0.99      0.97      0.98     30059\n",
            "           5       0.99      0.98      0.98      7276\n",
            "\n",
            "    accuracy                           0.88    133137\n",
            "   macro avg       0.91      0.91      0.91    133137\n",
            "weighted avg       0.88      0.88      0.88    133137\n",
            "\n"
          ]
        }
      ],
      "source": [
        "from sklearn.ensemble import RandomForestClassifier\n",
        "from sklearn.metrics import classification_report, accuracy_score\n",
        "from sklearn.utils.class_weight import compute_class_weight\n",
        "import numpy as np\n",
        "import pandas as pd\n",
        "from sklearn.datasets import load_iris\n",
        "from sklearn.model_selection import train_test_split\n",
        "from sklearn.ensemble import RandomForestClassifier\n",
        "from sklearn.metrics import accuracy_score\n",
        "from sklearn.feature_selection import SelectKBest\n",
        "from scipy.stats import pearsonr\n",
        "\n",
        "\n",
        "# Create a RandomForestClassifier with class weights\n",
        "rf_model = RandomForestClassifier(class_weight='balanced',max_depth=12,max_features='sqrt',n_estimators=400)\n",
        "\n",
        "rf_model.fit(X_train_scaled, y)\n",
        "\n",
        "# Make predictions on the test set\n",
        "y_pred = rf_model.predict(X_val_scaled)\n",
        "\n",
        "# Evaluate the model performance\n",
        "accuracy = accuracy_score(y_val, y_pred)\n",
        "print(f\"Accuracy with selected features: {accuracy:.2f}\")\n",
        "\n",
        "print(classification_report(y_val, y_pred))"
      ]
    },
    {
      "cell_type": "code",
      "execution_count": 12,
      "metadata": {
        "id": "NGlTM8d-OaM_",
        "colab": {
          "base_uri": "https://localhost:8080/"
        },
        "outputId": "3d99616b-fc90-4632-e6b3-504c627b19c1"
      },
      "outputs": [
        {
          "output_type": "stream",
          "name": "stdout",
          "text": [
            "Accuracy: 0.87\n",
            "\n",
            "Classification Report:\n",
            "              precision    recall  f1-score   support\n",
            "\n",
            "           1       0.94      0.77      0.84     62790\n",
            "           2       0.66      0.91      0.76     30748\n",
            "           4       1.00      0.99      0.99     35040\n",
            "           5       1.00      1.00      1.00      6035\n",
            "\n",
            "    accuracy                           0.87    134613\n",
            "   macro avg       0.90      0.92      0.90    134613\n",
            "weighted avg       0.89      0.87      0.87    134613\n",
            "\n"
          ]
        }
      ],
      "source": [
        "X = np.array(df_test_filtered.drop([244], axis=1))\n",
        "y = np.array(df_test_filtered[244])\n",
        "y = y.astype('int')\n",
        "\n",
        "X_scaled = scaler.transform(X)\n",
        "y_pred = rf_model.predict(X_scaled)\n",
        "\n",
        "# Calculate accuracy\n",
        "accuracy = accuracy_score(y, y_pred)\n",
        "print(f\"Accuracy: {accuracy:.2f}\")\n",
        "\n",
        "# Print classification report\n",
        "print(\"\\nClassification Report:\")\n",
        "print(classification_report(y, y_pred))"
      ]
    },
    {
      "cell_type": "code",
      "source": [
        "# saving the trained model\n",
        "\n",
        "import pickle\n",
        "pickle.dump(rf_model, open('/content/gdrive/MyDrive/Opportunity_extracted/rf_model_cv_subject1_reduced_features.pkl', 'wb'))\n",
        "\n",
        "# save the scaler\n",
        "pickle.dump(scaler, open('/content/gdrive/MyDrive/Opportunity_extracted/scaler_cv_subject1_reduced_features.pkl', 'wb'))"
      ],
      "metadata": {
        "id": "rYNCWGlddkAQ"
      },
      "execution_count": 15,
      "outputs": []
    },
    {
      "cell_type": "code",
      "source": [],
      "metadata": {
        "id": "bMh-JeySjxVe"
      },
      "execution_count": null,
      "outputs": []
    },
    {
      "cell_type": "code",
      "source": [
        "# experimenting with model design and cross validation"
      ],
      "metadata": {
        "id": "RjIRqpY4lbLy"
      },
      "execution_count": null,
      "outputs": []
    },
    {
      "cell_type": "code",
      "source": [],
      "metadata": {
        "id": "JlJZdPaxlbBz"
      },
      "execution_count": null,
      "outputs": []
    }
  ],
  "metadata": {
    "colab": {
      "provenance": [],
      "gpuType": "T4",
      "authorship_tag": "ABX9TyPvQvVsOf9Rr8ZH9p42xUhR",
      "include_colab_link": true
    },
    "kernelspec": {
      "display_name": "Python 3",
      "name": "python3"
    },
    "language_info": {
      "name": "python"
    }
  },
  "nbformat": 4,
  "nbformat_minor": 0
}